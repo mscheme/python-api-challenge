{
 "cells": [
  {
   "cell_type": "markdown",
   "metadata": {},
   "source": [
    "# WeatherPy\n",
    "----\n",
    "## Analysis\n",
    "- You can clearly see a relationship between the northern hemisphere and max temperature. The further north, the colder it get. We see a slight correlation in the southern hemisphere, with the warmest temperature being around the equator.\n",
    "\n",
    "- I found no correlation between latitude and humidity. There did appear to be some drop in humidity between 0 and 40 degrees latitude before spiking again. Perhaps due to weather systems.\n",
    "\n",
    "- I found no correlation between wind speed and latitude. And I found no correlation between cloudiness and latitude."
   ]
  },
  {
   "cell_type": "code",
   "execution_count": 1,
   "metadata": {
    "scrolled": true
   },
   "outputs": [],
   "source": [
    "# Dependencies and Setup\n",
    "import matplotlib.pyplot as plt\n",
    "import pandas as pd\n",
    "import numpy as np\n",
    "import requests\n",
    "import datetime\n",
    "import time\n",
    "from scipy.stats import linregress\n",
    "\n",
    "# Import API key\n",
    "from api_keys import weather_api_key\n",
    "\n",
    "# Incorporated citipy to determine city based on latitude and longitude\n",
    "from citipy import citipy\n",
    "\n",
    "# Output File (CSV)\n",
    "output_data_file = \"output_data/cities.csv\"\n",
    "\n",
    "# Range of latitudes and longitudes\n",
    "lat_range = (-90, 90)\n",
    "lng_range = (-180, 180)"
   ]
  },
  {
   "cell_type": "markdown",
   "metadata": {},
   "source": [
    "## Generate Cities List"
   ]
  },
  {
   "cell_type": "code",
   "execution_count": 2,
   "metadata": {},
   "outputs": [
    {
     "data": {
      "text/plain": [
       "1060"
      ]
     },
     "execution_count": 2,
     "metadata": {},
     "output_type": "execute_result"
    }
   ],
   "source": [
    "# List for holding lat_lngs and cities\n",
    "lat_lngs = []\n",
    "cities = []\n",
    "\n",
    "# Create a set of random lat and lng combinations\n",
    "lats = np.random.uniform(lat_range[0], lat_range[1], size=3200)\n",
    "lngs = np.random.uniform(lng_range[0], lng_range[1], size=3200)\n",
    "lat_lngs = zip(lats, lngs)\n",
    "\n",
    "# Identify nearest city for each lat, lng combination\n",
    "for lat_lng in lat_lngs:\n",
    "    city = citipy.nearest_city(lat_lng[0], lat_lng[1]).city_name\n",
    "    \n",
    "    # If the city is unique, then add it to a our cities list\n",
    "    if city not in cities:\n",
    "        cities.append(city)\n",
    "\n",
    "# Print the city count to confirm sufficient count\n",
    "len(cities)"
   ]
  },
  {
   "cell_type": "markdown",
   "metadata": {},
   "source": [
    "### Perform API Calls\n",
    "* Perform a weather check on each city using a series of successive API calls.\n",
    "* Include a print log of each city as it'sbeing processed (with the city number and city name).\n"
   ]
  },
  {
   "cell_type": "code",
   "execution_count": 3,
   "metadata": {},
   "outputs": [
    {
     "name": "stdout",
     "output_type": "stream",
     "text": [
      "Begin Data Retrevial\n",
      "------------------\n",
      "Processing Record 1 | esmeralda\n",
      "esmeralda not found. Skipping...\n",
      "Processing Record 2 | kencong\n",
      "kencong not found. Skipping...\n",
      "Processing Record 3 | faya\n",
      "faya not found. Skipping...\n",
      "Processing Record 4 | hermanus\n",
      "hermanus not found. Skipping...\n",
      "Processing Record 5 | gambela\n",
      "gambela not found. Skipping...\n"
     ]
    },
    {
     "ename": "KeyboardInterrupt",
     "evalue": "",
     "output_type": "error",
     "traceback": [
      "\u001b[0;31m---------------------------------------------------------------------------\u001b[0m",
      "\u001b[0;31mKeyboardInterrupt\u001b[0m                         Traceback (most recent call last)",
      "\u001b[0;32m<ipython-input-3-ad4bbc4caf3d>\u001b[0m in \u001b[0;36m<module>\u001b[0;34m\u001b[0m\n\u001b[1;32m     56\u001b[0m         \u001b[0;32mpass\u001b[0m\u001b[0;34m\u001b[0m\u001b[0;34m\u001b[0m\u001b[0m\n\u001b[1;32m     57\u001b[0m \u001b[0;34m\u001b[0m\u001b[0m\n\u001b[0;32m---> 58\u001b[0;31m     \u001b[0mtime\u001b[0m\u001b[0;34m.\u001b[0m\u001b[0msleep\u001b[0m\u001b[0;34m(\u001b[0m\u001b[0;36m2\u001b[0m\u001b[0;34m)\u001b[0m \u001b[0;31m# Sleep for 2 seconds\u001b[0m\u001b[0;34m\u001b[0m\u001b[0;34m\u001b[0m\u001b[0m\n\u001b[0m\u001b[1;32m     59\u001b[0m \u001b[0;34m\u001b[0m\u001b[0m\n\u001b[1;32m     60\u001b[0m \u001b[0mprint\u001b[0m\u001b[0;34m(\u001b[0m\u001b[0;34m\"-----------------------------\"\u001b[0m\u001b[0;34m)\u001b[0m\u001b[0;34m\u001b[0m\u001b[0;34m\u001b[0m\u001b[0m\n",
      "\u001b[0;31mKeyboardInterrupt\u001b[0m: "
     ]
    }
   ],
   "source": [
    "# url = api.openweathermap.org/data/2.5/weather?q={city name}&appid={API key}&units=imperial\n",
    "base_url = 'http://api.openweathermap.org/data/2.5/weather?&appid='+weather_api_key+'&units=imperial&q=' \n",
    "\n",
    "# use variable to track count of cities \n",
    "cityCount = 1\n",
    "\n",
    "# use variables to store values from api\n",
    "lat_list = []\n",
    "lon_list = []\n",
    "temp_list = []\n",
    "humidity_list = []\n",
    "clouds_list = []\n",
    "wind_list = []\n",
    "country_list = []\n",
    "date_list = []\n",
    "city_list = []\n",
    "\n",
    "\n",
    "print(f'Begin Data Retrevial')\n",
    "print(f'------------------')\n",
    "\n",
    "# for each city in the list attempt to get weather data\n",
    "for city in cities:\n",
    "    \n",
    "    # attempt to get response data from open weather map api\n",
    "    try:\n",
    "        \n",
    "        print(f'Processing Record {cityCount} | {city}')\n",
    "        cityCount += 1\n",
    "        url = base_url+city\n",
    "        response = requests.get(url).json()\n",
    "\n",
    "        lat = response['coord']['lat']\n",
    "        lon = response['coord']['lon']\n",
    "        temp = response['main']['temp_max']\n",
    "        humidity = response['main']['humidity']\n",
    "        clouds = response['clouds']['all']\n",
    "        wind = response['wind']['speed']\n",
    "        country = response['sys']['country']\n",
    "        date = response['dt']\n",
    "        \n",
    "        #store data\n",
    "        lat_list.append(lat)\n",
    "        lon_list.append(lon)\n",
    "        temp_list.append(temp)\n",
    "        humidity_list.append(humidity)\n",
    "        clouds_list.append(clouds)\n",
    "        wind_list.append(wind)\n",
    "        country_list.append(country)\n",
    "        date_list.append(date)\n",
    "        city_list.append(city)\n",
    "    \n",
    "    # skip city if response fails\n",
    "    except:\n",
    "        print(f'{city} not found. Skipping...')\n",
    "        pass\n",
    "    \n",
    "    time.sleep(2) # Sleep for 2 seconds\n",
    "    \n",
    "print(\"-----------------------------\")\n",
    "print(\"Data Retrieval Complete      \")\n",
    "print(\"-----------------------------\")"
   ]
  },
  {
   "cell_type": "markdown",
   "metadata": {},
   "source": [
    "### Convert Raw Data to DataFrame\n",
    "* Export the city data into a .csv.\n",
    "* Display the DataFrame"
   ]
  },
  {
   "cell_type": "code",
   "execution_count": null,
   "metadata": {},
   "outputs": [],
   "source": [
    "city_df = pd.DataFrame({'City': city_list,\n",
    "                        'Lat': lat_list,\n",
    "                        'Lng': lon_list,\n",
    "                        'Max Temp': temp_list,\n",
    "                        'Humidity': humidity_list,\n",
    "                        'Cloudiness': clouds_list,\n",
    "                        'Wind Speed': wind_list,\n",
    "                        'Country': country_list,\n",
    "                        'Date': date_list\n",
    "                       })\n",
    "\n",
    "city_df.head()"
   ]
  },
  {
   "cell_type": "code",
   "execution_count": null,
   "metadata": {},
   "outputs": [],
   "source": [
    "city_df.describe()"
   ]
  },
  {
   "cell_type": "markdown",
   "metadata": {},
   "source": [
    "## Inspect the data and remove the cities where the humidity > 100%.\n",
    "----\n",
    "Skip this step if there are no cities that have humidity > 100%. "
   ]
  },
  {
   "cell_type": "code",
   "execution_count": null,
   "metadata": {},
   "outputs": [],
   "source": [
    "#  Get the indices of cities that have humidity over 100%.\n",
    "bad_data = city_df.loc[city_df['Humidity'] > 100].index"
   ]
  },
  {
   "cell_type": "code",
   "execution_count": null,
   "metadata": {},
   "outputs": [],
   "source": [
    "# Make a new DataFrame equal to the city data to drop all humidity outliers by index.\n",
    "# Passing \"inplace=False\" will make a copy of the city_data DataFrame, which we call \"clean_city_data\".\n",
    "clean_city_data = city_df.drop(bad_data, inplace=False)\n",
    "clean_city_data.head()"
   ]
  },
  {
   "cell_type": "markdown",
   "metadata": {},
   "source": [
    "## Plotting the Data\n",
    "* Use proper labeling of the plots using plot titles (including date of analysis) and axes labels.\n",
    "* Save the plotted figures as .pngs."
   ]
  },
  {
   "cell_type": "markdown",
   "metadata": {},
   "source": [
    "## Latitude vs. Temperature Plot"
   ]
  },
  {
   "cell_type": "code",
   "execution_count": null,
   "metadata": {},
   "outputs": [],
   "source": [
    "# Get today's date\n",
    "# using now() to get current time  \n",
    "current_time = datetime.datetime.now()  \n",
    "year = current_time.year\n",
    "month = current_time.month\n",
    "day = current_time.day\n",
    "date = \"-\".join([str(month),str(day),str(year)])"
   ]
  },
  {
   "cell_type": "code",
   "execution_count": null,
   "metadata": {},
   "outputs": [],
   "source": [
    "# latitude vs. temperature scatter plot\n",
    "plt.scatter(clean_city_data['Lat'], \n",
    "            clean_city_data['Max Temp'],\n",
    "            edgecolor=\"black\", linewidths=1, marker=\"o\")\n",
    "\n",
    "# add labels, titles, etc.\n",
    "plt.title(f\"City Latitude vs. Max Temperature ({date})\")\n",
    "plt.ylabel(\"Max Temperature (F)\")\n",
    "plt.xlabel(\"Latitude\")\n",
    "plt.grid(True)\n",
    "\n",
    "# Save the plot\n",
    "plt.savefig(\"output_data/latVStemp.png\")\n",
    "\n",
    "# Show plot\n",
    "plt.show()"
   ]
  },
  {
   "cell_type": "markdown",
   "metadata": {},
   "source": [
    "This plot shows the relationship between lattitude and the highest temperature on a single day.\n",
    "In this case it shows it colder in the north (positive latitude) than it is in the south (negative latitude)."
   ]
  },
  {
   "cell_type": "markdown",
   "metadata": {},
   "source": [
    "## Latitude vs. Humidity Plot"
   ]
  },
  {
   "cell_type": "code",
   "execution_count": null,
   "metadata": {},
   "outputs": [],
   "source": [
    "# latitude vs. humidity scatter plot\n",
    "plt.scatter(clean_city_data['Lat'], \n",
    "            clean_city_data['Humidity'],\n",
    "            edgecolor=\"black\", linewidths=1, marker=\"o\")\n",
    "\n",
    "# add labels, titles, etc.\n",
    "plt.title(f\"City Latitude vs. Humidity ({date})\")\n",
    "plt.ylabel(\"Humidity (%)\")\n",
    "plt.xlabel(\"Latitude\")\n",
    "plt.grid(True)\n",
    "\n",
    "# Save the plot\n",
    "plt.savefig(\"output_data/lat_VS_humidity.png\")\n",
    "\n",
    "# Show plot\n",
    "plt.show()"
   ]
  },
  {
   "cell_type": "markdown",
   "metadata": {},
   "source": [
    "This plot shows the relationship between lattitude and the humidity on a single day.\n",
    "In this case there does not appear to be a strong correlation between latitude and humidity."
   ]
  },
  {
   "cell_type": "markdown",
   "metadata": {},
   "source": [
    "## Latitude vs. Cloudiness Plot"
   ]
  },
  {
   "cell_type": "code",
   "execution_count": null,
   "metadata": {},
   "outputs": [],
   "source": [
    "# latitude vs. cloudiness scatter plot\n",
    "plt.scatter(clean_city_data['Lat'], \n",
    "            clean_city_data['Cloudiness'],\n",
    "            edgecolor=\"black\", linewidths=1, marker=\"o\")\n",
    "\n",
    "# add labels, titles, etc.\n",
    "plt.title(f\"City Latitude vs. Cloudiness ({date})\")\n",
    "plt.ylabel(\"Cloudiness (%)\")\n",
    "plt.xlabel(\"Latitude\")\n",
    "plt.grid(True)\n",
    "\n",
    "# Save the plot\n",
    "plt.savefig(\"output_data/lat_VS_cloudiness.png\")\n",
    "\n",
    "# Show plot\n",
    "plt.show()"
   ]
  },
  {
   "cell_type": "markdown",
   "metadata": {},
   "source": [
    "This plot shows the relationship between lattitude and the cloudiness on a single day. In this case there does not appear to be a strong correlation between latitude and cloudiness."
   ]
  },
  {
   "cell_type": "markdown",
   "metadata": {},
   "source": [
    "## Latitude vs. Wind Speed Plot"
   ]
  },
  {
   "cell_type": "code",
   "execution_count": null,
   "metadata": {},
   "outputs": [],
   "source": [
    "# latitude vs. wind speed scatter plot\n",
    "plt.scatter(clean_city_data['Lat'], \n",
    "            clean_city_data['Wind Speed'],\n",
    "            edgecolor=\"black\", linewidths=1, marker=\"o\")\n",
    "\n",
    "# add labels, titles, etc.\n",
    "plt.title(f\"City Latitude vs. Wind Speed ({date})\")\n",
    "plt.ylabel(\"Wind Speed (mph)\")\n",
    "plt.xlabel(\"Latitude\")\n",
    "plt.grid(True)\n",
    "\n",
    "# Save the plot\n",
    "plt.savefig(\"output_data/lat_VS_windSpeed.png\")\n",
    "\n",
    "# Show plot\n",
    "plt.show()"
   ]
  },
  {
   "cell_type": "markdown",
   "metadata": {},
   "source": [
    "This plot shows the relationship between lattitude and the wind speed on a single day. In this case there does not appear to be a strong correlation between latitude and wind speed."
   ]
  },
  {
   "cell_type": "markdown",
   "metadata": {},
   "source": [
    "## Linear Regression"
   ]
  },
  {
   "cell_type": "code",
   "execution_count": null,
   "metadata": {},
   "outputs": [],
   "source": [
    "# linear regression calculation & plot function\n",
    "def lin_regress(x_values, y_values, ylabel, text_coordinates):\n",
    "    \n",
    "    # calculate regression value\n",
    "    (slope, intercept, rvalue, pvalue, stderr) = linregress(x_values, y_values)\n",
    "    regression_values = x_values * slope + intercept\n",
    "    line_eq = \"y = \" + str(round(slope,2)) + \"x + \" + str(round(intercept,2))\n",
    "\n",
    "    # create scatter plot\n",
    "    plt.scatter(x_values,y_values)\n",
    "    \n",
    "    # create regession line & display equation\n",
    "    plt.plot(x_values,regression_values,\"r-\")\n",
    "    plt.annotate(line_eq,text_coordinates,fontsize=15,color=\"red\")\n",
    "    \n",
    "    # add axis & plot titles\n",
    "    plt.xlabel('Latitude')\n",
    "    plt.ylabel(ylabel)\n",
    "    \n",
    "    # print r value\n",
    "    print(f'The r-value is: {rvalue**2}')\n",
    "    plt.show()"
   ]
  },
  {
   "cell_type": "code",
   "execution_count": null,
   "metadata": {},
   "outputs": [],
   "source": [
    "north_hem = clean_city_data.loc[(clean_city_data[\"Lat\"] >= 0)]\n",
    "south_hem = clean_city_data.loc[(clean_city_data[\"Lat\"] < 0)]"
   ]
  },
  {
   "cell_type": "markdown",
   "metadata": {},
   "source": [
    "####  Northern Hemisphere - Max Temp vs. Latitude Linear Regression"
   ]
  },
  {
   "cell_type": "code",
   "execution_count": null,
   "metadata": {},
   "outputs": [],
   "source": [
    "lin_regress(north_hem['Lat'], north_hem['Max Temp'], 'Max Temp', (5,-20))"
   ]
  },
  {
   "cell_type": "markdown",
   "metadata": {},
   "source": [
    "The high r-value indicates a strong correlation between max temperature and latitude. The correlation in this case is negative. The further north, the lower the temperature"
   ]
  },
  {
   "cell_type": "markdown",
   "metadata": {},
   "source": [
    "####  Southern Hemisphere - Max Temp vs. Latitude Linear Regression"
   ]
  },
  {
   "cell_type": "code",
   "execution_count": null,
   "metadata": {},
   "outputs": [],
   "source": [
    "lin_regress(south_hem['Lat'], south_hem['Max Temp'], 'Max Temp', (-50,42))"
   ]
  },
  {
   "cell_type": "markdown",
   "metadata": {},
   "source": [
    "The low r-value does not indicate a strong correlation between max temperature and latitude."
   ]
  },
  {
   "cell_type": "markdown",
   "metadata": {},
   "source": [
    "####  Northern Hemisphere - Humidity (%) vs. Latitude Linear Regression"
   ]
  },
  {
   "cell_type": "code",
   "execution_count": null,
   "metadata": {},
   "outputs": [],
   "source": [
    "lin_regress(north_hem['Lat'], north_hem['Humidity'], 'Humidity', (45,20))"
   ]
  },
  {
   "cell_type": "markdown",
   "metadata": {},
   "source": [
    "The low r-value show little or no correlation between humidity and latitude."
   ]
  },
  {
   "cell_type": "markdown",
   "metadata": {},
   "source": [
    "####  Southern Hemisphere - Humidity (%) vs. Latitude Linear Regression"
   ]
  },
  {
   "cell_type": "code",
   "execution_count": null,
   "metadata": {},
   "outputs": [],
   "source": [
    "lin_regress(south_hem['Lat'], south_hem['Humidity'], 'Humidity', (-30,20))"
   ]
  },
  {
   "cell_type": "markdown",
   "metadata": {},
   "source": [
    "The low r-value suggests a weak correlation between humidity and latitude."
   ]
  },
  {
   "cell_type": "markdown",
   "metadata": {},
   "source": [
    "####  Northern Hemisphere - Cloudiness (%) vs. Latitude Linear Regression"
   ]
  },
  {
   "cell_type": "code",
   "execution_count": null,
   "metadata": {},
   "outputs": [],
   "source": [
    "lin_regress(north_hem['Lat'], north_hem['Cloudiness'], 'Cloudiness', (45,25))"
   ]
  },
  {
   "cell_type": "markdown",
   "metadata": {},
   "source": [
    "The low r-value suggests a weak correlation between cloudiness and latitude."
   ]
  },
  {
   "cell_type": "markdown",
   "metadata": {},
   "source": [
    "####  Southern Hemisphere - Cloudiness (%) vs. Latitude Linear Regression"
   ]
  },
  {
   "cell_type": "code",
   "execution_count": null,
   "metadata": {},
   "outputs": [],
   "source": [
    "lin_regress(south_hem['Lat'], south_hem['Cloudiness'], 'Cloudiness', (-55,5))"
   ]
  },
  {
   "cell_type": "markdown",
   "metadata": {},
   "source": [
    "The low r-value suggests a weak correlation between cloudiness and latitude."
   ]
  },
  {
   "cell_type": "markdown",
   "metadata": {},
   "source": [
    "####  Northern Hemisphere - Wind Speed (mph) vs. Latitude Linear Regression"
   ]
  },
  {
   "cell_type": "code",
   "execution_count": null,
   "metadata": {},
   "outputs": [],
   "source": [
    "lin_regress(north_hem['Lat'], north_hem['Wind Speed'], 'Wind Speed', (5,30))"
   ]
  },
  {
   "cell_type": "markdown",
   "metadata": {},
   "source": [
    "The low r-value suggests a weak correlation between wind speed and latitude."
   ]
  },
  {
   "cell_type": "markdown",
   "metadata": {},
   "source": [
    "####  Southern Hemisphere - Wind Speed (mph) vs. Latitude Linear Regression"
   ]
  },
  {
   "cell_type": "code",
   "execution_count": null,
   "metadata": {},
   "outputs": [],
   "source": [
    "lin_regress(south_hem['Lat'], south_hem['Wind Speed'], 'Wind Speed', (-45,26))"
   ]
  },
  {
   "cell_type": "markdown",
   "metadata": {},
   "source": [
    "The low r-value suggests a weak correlation between wind speed and latitude."
   ]
  },
  {
   "cell_type": "code",
   "execution_count": null,
   "metadata": {},
   "outputs": [],
   "source": [
    "# Export the City_Data into a csv\n",
    "clean_city_data.to_csv(output_data_file, index_label=\"City_ID\")"
   ]
  },
  {
   "cell_type": "code",
   "execution_count": null,
   "metadata": {},
   "outputs": [],
   "source": [
    "clean_city_data"
   ]
  },
  {
   "cell_type": "code",
   "execution_count": null,
   "metadata": {},
   "outputs": [],
   "source": []
  }
 ],
 "metadata": {
  "anaconda-cloud": {},
  "kernel_info": {
   "name": "python3"
  },
  "kernelspec": {
   "display_name": "Python 3",
   "language": "python",
   "name": "python3"
  },
  "language_info": {
   "codemirror_mode": {
    "name": "ipython",
    "version": 3
   },
   "file_extension": ".py",
   "mimetype": "text/x-python",
   "name": "python",
   "nbconvert_exporter": "python",
   "pygments_lexer": "ipython3",
   "version": "3.8.5"
  },
  "latex_envs": {
   "LaTeX_envs_menu_present": true,
   "autoclose": false,
   "autocomplete": true,
   "bibliofile": "biblio.bib",
   "cite_by": "apalike",
   "current_citInitial": 1,
   "eqLabelWithNumbers": true,
   "eqNumInitial": 1,
   "hotkeys": {
    "equation": "Ctrl-E",
    "itemize": "Ctrl-I"
   },
   "labels_anchors": false,
   "latex_user_defs": false,
   "report_style_numbering": false,
   "user_envs_cfg": false
  },
  "nteract": {
   "version": "0.12.3"
  }
 },
 "nbformat": 4,
 "nbformat_minor": 2
}
